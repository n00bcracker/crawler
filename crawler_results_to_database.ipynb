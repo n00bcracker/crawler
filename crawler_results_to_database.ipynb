{
 "cells": [
  {
   "cell_type": "code",
   "execution_count": 1,
   "metadata": {},
   "outputs": [],
   "source": [
    "import os, re\n",
    "import pandas as pd\n",
    "import numpy as np\n",
    "import sqlalchemy as sa\n",
    "from sqlalchemy.types import Integer, Float, Date, VARCHAR\n",
    "from datetime import datetime"
   ]
  },
  {
   "cell_type": "markdown",
   "metadata": {},
   "source": [
    "### Загрузка результатов краулера в формате для связки со спарк (учитываются только инн и огрн)"
   ]
  },
  {
   "cell_type": "markdown",
   "metadata": {},
   "source": [
    "#### Сбор справочника мобильных кодов"
   ]
  },
  {
   "cell_type": "code",
   "execution_count": 2,
   "metadata": {},
   "outputs": [],
   "source": [
    "mobile_codes = pd.read_csv('~/parsers/parsers_resources/common/mobiles_codes.csv', sep= ';', encoding= 'cp1251')\n",
    "mobile_codes = mobile_codes['АВС/ DEF'].drop_duplicates().astype(str).values"
   ]
  },
  {
   "cell_type": "code",
   "execution_count": 3,
   "metadata": {},
   "outputs": [],
   "source": [
    "def group_values(values, max_len):\n",
    "    values = [value for value in values if pd.notnull(value)]\n",
    "    \n",
    "    res = dict()\n",
    "    for value in values:\n",
    "        tmp_values = value.split(', ')\n",
    "        tmp_values = [x for x in tmp_values if len(x) > 0]\n",
    "        for x in tmp_values:\n",
    "            if x in res:\n",
    "                res[x] += 1\n",
    "            else:\n",
    "                res[x] = 1\n",
    "    \n",
    "    res = sorted(res.items(), key= lambda x : x[1], reverse= True)\n",
    "    res = [x[0] for x in res]\n",
    "    res_len = 0\n",
    "    fin_res = list()\n",
    "    for value in res:\n",
    "        res_len += len(value) + 2\n",
    "        if res_len < max_len:\n",
    "            fin_res.append(value)\n",
    "        else:\n",
    "            break\n",
    "    \n",
    "    if len(fin_res) > 0:\n",
    "        fin_res = ', '.join(fin_res)\n",
    "    else:\n",
    "        fin_res = np.nan\n",
    "    \n",
    "    return fin_res"
   ]
  },
  {
   "cell_type": "code",
   "execution_count": 4,
   "metadata": {},
   "outputs": [],
   "source": [
    "def get_mob_code(norm_tel):\n",
    "    return norm_tel[:3]"
   ]
  },
  {
   "cell_type": "code",
   "execution_count": 5,
   "metadata": {},
   "outputs": [],
   "source": [
    "def is_mobile_num(norm_tel):\n",
    "    if get_mob_code(norm_tel) in mobile_codes:\n",
    "        return True\n",
    "    else:\n",
    "        return False"
   ]
  },
  {
   "cell_type": "code",
   "execution_count": 6,
   "metadata": {},
   "outputs": [],
   "source": [
    "def group_telnumbers(values, max_len):\n",
    "    values = [value for value in values if pd.notnull(value)]\n",
    "    \n",
    "    res = dict()\n",
    "    for value in values:\n",
    "        phones = value.split(', ')\n",
    "        phones = [x for x in phones if len(x) > 0]\n",
    "        for phone in phones:\n",
    "            norm_phone = re.sub(r'\\D', '', phone)\n",
    "            if len(norm_phone) == 11:\n",
    "                norm_phone = norm_phone[1:]\n",
    "\n",
    "            if norm_phone in res:\n",
    "                res[norm_phone] += 1\n",
    "            else:\n",
    "                res[norm_phone] = 1\n",
    "    \n",
    "    res = sorted(res.items(), key= lambda x : (is_mobile_num(x[0]), x[1]), reverse= True)\n",
    "    res = [x[0] for x in res]\n",
    "    res_len = 0\n",
    "    fin_res = list()\n",
    "    for value in res:\n",
    "        res_len += len(value) + 2\n",
    "        if res_len < max_len:\n",
    "            fin_res.append(value)\n",
    "        else:\n",
    "            break\n",
    "            \n",
    "    if len(fin_res) > 0:\n",
    "        fin_res = ', '.join(fin_res)\n",
    "    else:\n",
    "        fin_res = np.nan\n",
    "        \n",
    "    return fin_res"
   ]
  },
  {
   "cell_type": "code",
   "execution_count": 9,
   "metadata": {},
   "outputs": [],
   "source": [
    "def get_contacts(*filenames):\n",
    "    csv_col_names = ['website', 'webpage', 'names', 'inns', 'ogrns', 'city', 'telnumbers', 'emails']\n",
    "    contacts = pd.DataFrame(columns=csv_col_names)\n",
    "    for file in filenames:\n",
    "        tmp_contacts = pd.read_csv(file, sep= ';', quotechar = '\\\"', quoting=1, header= None, names= csv_col_names,\\\n",
    "                               encoding= 'utf-8')\n",
    "        contacts = contacts.append(tmp_contacts, ignore_index=True)\n",
    "        \n",
    "    contacts = contacts.drop(columns=['names', 'city',])\n",
    "    contacts = contacts.drop_duplicates()\n",
    "    contacts.inns = contacts.inns.str.replace('ИНН: ', '')\n",
    "    contacts.ogrns = contacts.ogrns.str.replace('ОГРН: ', '')\n",
    "    contacts.telnumbers = contacts.telnumbers.str.replace('Тел.:', '')\n",
    "    contacts.emails = contacts.emails.str.replace('Почта: ', '')\n",
    "    contacts = contacts[(contacts.inns != '') | (contacts.ogrns != '')]\n",
    "    \n",
    "    flat_inns = contacts[['webpage', 'inns']]\n",
    "    flat_inns = flat_inns.set_index('webpage')\n",
    "    flat_inns = flat_inns.inns.str.split(', ').apply(pd.Series).unstack().dropna().reset_index(0, drop=True)\n",
    "    flat_inns.name = 'inn'\n",
    "    flat_inns = flat_inns[flat_inns != '']\n",
    "    \n",
    "    flat_ogrns = contacts[['webpage', 'ogrns']]\n",
    "    flat_ogrns = flat_ogrns.set_index('webpage')\n",
    "    flat_ogrns = flat_ogrns.ogrns.str.split(', ').apply(pd.Series).unstack().dropna().reset_index(0, drop=True)\n",
    "    flat_ogrns.name = 'ogrn'\n",
    "    flat_ogrns = flat_ogrns[flat_ogrns != '']\n",
    "    \n",
    "    contacts = contacts.drop(columns=['inns', 'ogrns',])\n",
    "    contacts = contacts.merge(flat_inns, how='left', left_on='webpage', right_index= True)\n",
    "    contacts = contacts.merge(flat_ogrns, how='left', left_on='webpage', right_index= True)\n",
    "    \n",
    "    return contacts"
   ]
  },
  {
   "cell_type": "code",
   "execution_count": 12,
   "metadata": {},
   "outputs": [],
   "source": [
    "filenames = ['./res/rf_inn_contacts.txt' , './res/su_inn_contacts.txt']\n",
    "contacts = get_contacts(*filenames)"
   ]
  },
  {
   "cell_type": "code",
   "execution_count": 10,
   "metadata": {},
   "outputs": [],
   "source": [
    "filename = '~/parsers/parsers_resources/contacts_scraper/res/su_inn_contacts.txt'\n",
    "contacts = contacts.append(get_contacts(filename), ignore_index=True)"
   ]
  },
  {
   "cell_type": "code",
   "execution_count": 11,
   "metadata": {},
   "outputs": [],
   "source": [
    "filename = '~/parsers/parsers_resources/contacts_scraper/res/rf_inn_contacts.txt'\n",
    "contacts = contacts.append(get_contacts(filename), ignore_index=True)"
   ]
  },
  {
   "cell_type": "code",
   "execution_count": 12,
   "metadata": {},
   "outputs": [],
   "source": [
    "# filename = './crawler/res/com_fast_inn_contacts.txt'\n",
    "# contacts = contacts.append(get_contacts(filename), ignore_index=True)"
   ]
  },
  {
   "cell_type": "code",
   "execution_count": 12,
   "metadata": {},
   "outputs": [],
   "source": [
    "contacts[['inn', 'ogrn']] = contacts[['inn', 'ogrn']].fillna(value='')"
   ]
  },
  {
   "cell_type": "code",
   "execution_count": 13,
   "metadata": {
    "scrolled": true
   },
   "outputs": [],
   "source": [
    "contacts = contacts.groupby(by=['inn', 'ogrn'], as_index=False).agg({\n",
    "                                            'website' : lambda x : group_values(x, 1500),\n",
    "                                            'telnumbers' : lambda x : group_telnumbers(x, 600),\n",
    "                                            'emails' : lambda x : group_values(x, 700),\n",
    "                                            })"
   ]
  },
  {
   "cell_type": "code",
   "execution_count": 14,
   "metadata": {},
   "outputs": [],
   "source": [
    "contacts = contacts.rename({'website' : 'websites'}, axis='columns')"
   ]
  },
  {
   "cell_type": "code",
   "execution_count": 15,
   "metadata": {},
   "outputs": [],
   "source": [
    "def writesql_contacts_res(contacts, auth_data, tablename):\n",
    "    login, password, tns = auth_data[0], auth_data[1], auth_data[2]\n",
    "    conn_str = 'oracle+cx_oracle://' + login + ':' + password + '@' + tns\n",
    "    oracle_db = sa.create_engine(conn_str, encoding= 'utf-8', max_identifier_length=128)\n",
    "    \n",
    "    metadata = sa.MetaData(bind=oracle_db)\n",
    "\n",
    "    table = sa.Table(tablename, metadata,\n",
    "            sa.Column('inn', VARCHAR(14)),\n",
    "            sa.Column('ogrn', VARCHAR(15)),\n",
    "            sa.Column('websites', VARCHAR(1700)),\n",
    "            sa.Column('telnumbers', VARCHAR(750)),\n",
    "            sa.Column('emails', VARCHAR(800)),\n",
    "            oracle_compress=True)\n",
    "    table.drop(checkfirst=True)\n",
    "    table.create(checkfirst=True)\n",
    "\n",
    "    table_types = {\n",
    "        'inn' : VARCHAR(14),\n",
    "        'ogrn' : VARCHAR(15),\n",
    "        'websites' : VARCHAR(1700),\n",
    "        'telnumbers' : VARCHAR(750),\n",
    "        'emails' : VARCHAR(800),\n",
    "    }\n",
    "\n",
    "    connection = oracle_db.connect()\n",
    "    contacts.to_sql(tablename, con= connection, if_exists= 'append', index= False, chunksize= 500, dtype= table_types) \n",
    "    connection.close()"
   ]
  },
  {
   "cell_type": "code",
   "execution_count": 18,
   "metadata": {},
   "outputs": [],
   "source": [
    "datalab_auth = ('ZASPA_AY[PxU_DCBUL_UMA_MOD]', 'pS_1G1!1', 'DATALAB')"
   ]
  },
  {
   "cell_type": "code",
   "execution_count": 19,
   "metadata": {},
   "outputs": [],
   "source": [
    "writesql_contacts_res(contacts, datalab_auth, 'zay_crawler_contacts')"
   ]
  },
  {
   "cell_type": "code",
   "execution_count": null,
   "metadata": {},
   "outputs": [],
   "source": []
  }
 ],
 "metadata": {
  "kernelspec": {
   "display_name": "Python 3",
   "language": "python",
   "name": "python3"
  },
  "language_info": {
   "codemirror_mode": {
    "name": "ipython",
    "version": 3
   },
   "file_extension": ".py",
   "mimetype": "text/x-python",
   "name": "python",
   "nbconvert_exporter": "python",
   "pygments_lexer": "ipython3",
   "version": "3.7.6"
  }
 },
 "nbformat": 4,
 "nbformat_minor": 2
}
